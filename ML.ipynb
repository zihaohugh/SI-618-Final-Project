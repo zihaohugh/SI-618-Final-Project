{
 "cells": [
  {
   "cell_type": "markdown",
   "metadata": {},
   "source": [
    "## Part III: Machine Learning"
   ]
  },
  {
   "cell_type": "markdown",
   "metadata": {},
   "source": [
    "### 1.Preprocessing"
   ]
  },
  {
   "cell_type": "markdown",
   "metadata": {},
   "source": [
    "#### Import packages and load data"
   ]
  },
  {
   "cell_type": "code",
   "execution_count": 1,
   "metadata": {},
   "outputs": [],
   "source": [
    "import pandas as pd\n",
    "import numpy as np\n",
    "import matplotlib.pyplot as plt"
   ]
  },
  {
   "cell_type": "code",
   "execution_count": 2,
   "metadata": {},
   "outputs": [],
   "source": [
    "business_file = '../project_data/yelp_business.csv'\n",
    "review_file = '../project_data/yelp_review.csv'\n",
    "\n",
    "# business_file = '../project_data/yelp_business.csv'\n",
    "# review_file = 'yelp_review.csv'\n",
    "\n",
    "# Load the business data and review data\n",
    "business_df = pd.read_csv(business_file)\n",
    "review_df = pd.read_csv(review_file)"
   ]
  },
  {
   "cell_type": "markdown",
   "metadata": {},
   "source": [
    "#### Handle Missing Values"
   ]
  },
  {
   "cell_type": "markdown",
   "metadata": {},
   "source": [
    "**Dropping Missing Values in Data**:\n",
    "   - Rows in `business_df` with missing values in the `categories` column were dropped.\n",
    "   - Rows in `review_df` with missing values in the `text` column were dropped\n",
    "   - This step ensures that all businesses have valid category information, which is essential for filtering later."
   ]
  },
  {
   "cell_type": "code",
   "execution_count": 30,
   "metadata": {},
   "outputs": [
    {
     "name": "stdout",
     "output_type": "stream",
     "text": [
      "business_id         0\n",
      "name                0\n",
      "address          5126\n",
      "city                0\n",
      "state               0\n",
      "postal_code        73\n",
      "latitude            0\n",
      "longitude           0\n",
      "stars               0\n",
      "review_count        0\n",
      "is_open             0\n",
      "attributes      13642\n",
      "categories          0\n",
      "hours           23120\n",
      "dtype: int64\n",
      "review_id      0\n",
      "user_id        0\n",
      "business_id    0\n",
      "stars          0\n",
      "useful         0\n",
      "funny          0\n",
      "cool           0\n",
      "text           0\n",
      "date           0\n",
      "dtype: int64\n",
      "After dropping NA: business data : (150243, 14)\n",
      "After dropping NA: review data : (699, 9)\n"
     ]
    }
   ],
   "source": [
    "business_df = business_df.dropna(subset=['categories'])\n",
    "review_df = review_df.dropna(subset=['text'])\n",
    "review_df = review_df.sample(frac=0.01, random_state=42)\n",
    "print(business_df.isnull().sum())\n",
    "print(review_df.isnull().sum())\n",
    "print('After dropping NA: business data :', business_df.shape)\n",
    "print('After dropping NA: review data :', review_df.shape)"
   ]
  },
  {
   "cell_type": "markdown",
   "metadata": {},
   "source": [
    "**Filtering for Restaurants**:\n",
    "- Filtered businesses with \"Restaurants\" in their `categories` column into `restaurant_df`.\n",
    "- Retained reviews in `review_df` whose `business_id` matched `restaurant_df`.\n",
    "- This ensures the dataset focuses only on restaurants."
   ]
  },
  {
   "cell_type": "code",
   "execution_count": null,
   "metadata": {},
   "outputs": [],
   "source": [
    "# Filter out businesses that are not restaurants\n",
    "restaurant_df = business_df[business_df['categories'].str.contains('Restaurants')]\n",
    "restaurant_ids = restaurant_df['business_id'].values\n",
    "\n",
    "# Filter out reviews that are not for restaurants\n",
    "restaurant_review_df = review_df[review_df['business_id'].isin(restaurant_ids)]\n",
    "\n",
    "print('Number of reviews for restaurants:', len(restaurant_review_df))\n",
    "print(review_df.head())\n",
    "print(business_df.head())"
   ]
  },
  {
   "cell_type": "code",
   "execution_count": 4,
   "metadata": {},
   "outputs": [
    {
     "name": "stdout",
     "output_type": "stream",
     "text": [
      "<class 'pandas.core.frame.DataFrame'>\n",
      "Index: 69903 entries, 1295256 to 4428200\n",
      "Data columns (total 9 columns):\n",
      " #   Column       Non-Null Count  Dtype  \n",
      "---  ------       --------------  -----  \n",
      " 0   review_id    69903 non-null  object \n",
      " 1   user_id      69903 non-null  object \n",
      " 2   business_id  69903 non-null  object \n",
      " 3   stars        69903 non-null  float64\n",
      " 4   useful       69903 non-null  int64  \n",
      " 5   funny        69903 non-null  int64  \n",
      " 6   cool         69903 non-null  int64  \n",
      " 7   text         69903 non-null  object \n",
      " 8   date         69903 non-null  object \n",
      "dtypes: float64(1), int64(3), object(5)\n",
      "memory usage: 5.3+ MB\n"
     ]
    }
   ],
   "source": [
    "review_df.info()"
   ]
  },
  {
   "cell_type": "code",
   "execution_count": 5,
   "metadata": {},
   "outputs": [
    {
     "name": "stdout",
     "output_type": "stream",
     "text": [
      "<class 'pandas.core.frame.DataFrame'>\n",
      "Index: 150243 entries, 0 to 150345\n",
      "Data columns (total 14 columns):\n",
      " #   Column        Non-Null Count   Dtype  \n",
      "---  ------        --------------   -----  \n",
      " 0   business_id   150243 non-null  object \n",
      " 1   name          150243 non-null  object \n",
      " 2   address       145117 non-null  object \n",
      " 3   city          150243 non-null  object \n",
      " 4   state         150243 non-null  object \n",
      " 5   postal_code   150170 non-null  object \n",
      " 6   latitude      150243 non-null  float64\n",
      " 7   longitude     150243 non-null  float64\n",
      " 8   stars         150243 non-null  float64\n",
      " 9   review_count  150243 non-null  int64  \n",
      " 10  is_open       150243 non-null  int64  \n",
      " 11  attributes    136601 non-null  object \n",
      " 12  categories    150243 non-null  object \n",
      " 13  hours         127123 non-null  object \n",
      "dtypes: float64(3), int64(2), object(9)\n",
      "memory usage: 17.2+ MB\n"
     ]
    }
   ],
   "source": [
    "business_df.info()"
   ]
  },
  {
   "cell_type": "markdown",
   "metadata": {},
   "source": [
    "**Merging Reviews and Businesses**:\n",
    "- Merged `restaurant_review_df` and `restaurant_df` on `business_id` using an inner join.\n",
    "- Renamed `stars_x` to `review_stars` and `stars_y` to `business_stars` for clarity."
   ]
  },
  {
   "cell_type": "code",
   "execution_count": 6,
   "metadata": {},
   "outputs": [
    {
     "data": {
      "text/html": [
       "<div>\n",
       "<style scoped>\n",
       "    .dataframe tbody tr th:only-of-type {\n",
       "        vertical-align: middle;\n",
       "    }\n",
       "\n",
       "    .dataframe tbody tr th {\n",
       "        vertical-align: top;\n",
       "    }\n",
       "\n",
       "    .dataframe thead th {\n",
       "        text-align: right;\n",
       "    }\n",
       "</style>\n",
       "<table border=\"1\" class=\"dataframe\">\n",
       "  <thead>\n",
       "    <tr style=\"text-align: right;\">\n",
       "      <th></th>\n",
       "      <th>review_id</th>\n",
       "      <th>user_id</th>\n",
       "      <th>business_id</th>\n",
       "      <th>review_stars</th>\n",
       "      <th>useful</th>\n",
       "      <th>funny</th>\n",
       "      <th>cool</th>\n",
       "      <th>text</th>\n",
       "      <th>date</th>\n",
       "      <th>name</th>\n",
       "      <th>...</th>\n",
       "      <th>state</th>\n",
       "      <th>postal_code</th>\n",
       "      <th>latitude</th>\n",
       "      <th>longitude</th>\n",
       "      <th>business_stars</th>\n",
       "      <th>review_count</th>\n",
       "      <th>is_open</th>\n",
       "      <th>attributes</th>\n",
       "      <th>categories</th>\n",
       "      <th>hours</th>\n",
       "    </tr>\n",
       "  </thead>\n",
       "  <tbody>\n",
       "    <tr>\n",
       "      <th>0</th>\n",
       "      <td>J5Q1gH4ACCj6CtQG7Yom7g</td>\n",
       "      <td>56gL9KEJNHiSDUoyjk2o3Q</td>\n",
       "      <td>8yR12PNSMo6FBYx1u5KPlw</td>\n",
       "      <td>2.0</td>\n",
       "      <td>1</td>\n",
       "      <td>0</td>\n",
       "      <td>0</td>\n",
       "      <td>Went for lunch and found that my burger was me...</td>\n",
       "      <td>2018-04-04 21:09:53</td>\n",
       "      <td>Bru Burger Bar - Indianapolis</td>\n",
       "      <td>...</td>\n",
       "      <td>IN</td>\n",
       "      <td>46204</td>\n",
       "      <td>39.773307</td>\n",
       "      <td>-86.152091</td>\n",
       "      <td>4.0</td>\n",
       "      <td>1608</td>\n",
       "      <td>1</td>\n",
       "      <td>{'BikeParking': 'True', 'GoodForKids': 'True',...</td>\n",
       "      <td>Restaurants, Gluten-Free, Bars, Food, Nightlif...</td>\n",
       "      <td>{'Monday': '0:0-0:0', 'Tuesday': '11:0-21:0', ...</td>\n",
       "    </tr>\n",
       "    <tr>\n",
       "      <th>1</th>\n",
       "      <td>U9-43s8YUl6GWBFCpxUGEw</td>\n",
       "      <td>PAxc0qpqt5c2kA0rjDFFAg</td>\n",
       "      <td>XwepyB7KjJ-XGJf0vKc6Vg</td>\n",
       "      <td>4.0</td>\n",
       "      <td>0</td>\n",
       "      <td>0</td>\n",
       "      <td>0</td>\n",
       "      <td>Been here a few times to get some shrimp.  The...</td>\n",
       "      <td>2013-04-27 01:55:49</td>\n",
       "      <td>Joe's Seafood</td>\n",
       "      <td>...</td>\n",
       "      <td>PA</td>\n",
       "      <td>19403</td>\n",
       "      <td>40.139854</td>\n",
       "      <td>-75.387321</td>\n",
       "      <td>3.0</td>\n",
       "      <td>7</td>\n",
       "      <td>0</td>\n",
       "      <td>{'OutdoorSeating': 'False', 'RestaurantsGoodFo...</td>\n",
       "      <td>Seafood Markets, Food, Restaurants, Seafood, S...</td>\n",
       "      <td>{'Monday': '9:0-19:0', 'Tuesday': '9:0-19:0', ...</td>\n",
       "    </tr>\n",
       "    <tr>\n",
       "      <th>2</th>\n",
       "      <td>8T8EGa_4Cj12M6w8vRgUsQ</td>\n",
       "      <td>BqPR1Dp5Rb_QYs9_fz9RiA</td>\n",
       "      <td>prm5wvpp0OHJBlrvTj9uOg</td>\n",
       "      <td>5.0</td>\n",
       "      <td>0</td>\n",
       "      <td>0</td>\n",
       "      <td>0</td>\n",
       "      <td>This is one fantastic place to eat whether you...</td>\n",
       "      <td>2019-05-15 18:29:25</td>\n",
       "      <td>Rumbi Island Grill</td>\n",
       "      <td>...</td>\n",
       "      <td>ID</td>\n",
       "      <td>83709</td>\n",
       "      <td>43.604645</td>\n",
       "      <td>-116.289834</td>\n",
       "      <td>3.5</td>\n",
       "      <td>29</td>\n",
       "      <td>0</td>\n",
       "      <td>{'HasTV': 'False', 'GoodForMeal': \"{'dessert':...</td>\n",
       "      <td>Sandwiches, Salad, Restaurants, Hawaiian, Cari...</td>\n",
       "      <td>{'Monday': '11:0-21:0', 'Tuesday': '11:0-21:0'...</td>\n",
       "    </tr>\n",
       "    <tr>\n",
       "      <th>3</th>\n",
       "      <td>18E_haOfOm8ks-A7SlVWRg</td>\n",
       "      <td>bnDZpsii_if2_wpn8oPcig</td>\n",
       "      <td>bK0j7YtVyN98UnM_8fUONg</td>\n",
       "      <td>3.0</td>\n",
       "      <td>1</td>\n",
       "      <td>1</td>\n",
       "      <td>1</td>\n",
       "      <td>Dirt cheap happy hour specials.  Half priced d...</td>\n",
       "      <td>2011-11-08 01:30:27</td>\n",
       "      <td>Tavern on Broad</td>\n",
       "      <td>...</td>\n",
       "      <td>PA</td>\n",
       "      <td>19102</td>\n",
       "      <td>39.949119</td>\n",
       "      <td>-75.164844</td>\n",
       "      <td>2.5</td>\n",
       "      <td>282</td>\n",
       "      <td>0</td>\n",
       "      <td>{'NoiseLevel': \"u'very_loud'\", 'RestaurantsPri...</td>\n",
       "      <td>American (New), Bars, Sports Bars, Restaurants...</td>\n",
       "      <td>{'Monday': '11:0-2:0', 'Tuesday': '11:0-2:0', ...</td>\n",
       "    </tr>\n",
       "    <tr>\n",
       "      <th>4</th>\n",
       "      <td>xQVDB9xRdpLmPh9XMQ6Gvg</td>\n",
       "      <td>yy38DH7ENFTJ10-d4GUlig</td>\n",
       "      <td>S26FJcC298XNpN2cZiwOrA</td>\n",
       "      <td>5.0</td>\n",
       "      <td>0</td>\n",
       "      <td>0</td>\n",
       "      <td>0</td>\n",
       "      <td>Nothing beats pizza and beer in my book. This ...</td>\n",
       "      <td>2012-12-24 02:18:18</td>\n",
       "      <td>Pi Pizzeria - Central West End</td>\n",
       "      <td>...</td>\n",
       "      <td>MO</td>\n",
       "      <td>63108</td>\n",
       "      <td>38.648864</td>\n",
       "      <td>-90.260690</td>\n",
       "      <td>4.0</td>\n",
       "      <td>488</td>\n",
       "      <td>1</td>\n",
       "      <td>{'BusinessAcceptsCreditCards': 'True', 'Restau...</td>\n",
       "      <td>Restaurants, Pizza</td>\n",
       "      <td>{'Monday': '11:0-21:0', 'Tuesday': '11:0-21:0'...</td>\n",
       "    </tr>\n",
       "  </tbody>\n",
       "</table>\n",
       "<p>5 rows × 22 columns</p>\n",
       "</div>"
      ],
      "text/plain": [
       "                review_id                 user_id             business_id  \\\n",
       "0  J5Q1gH4ACCj6CtQG7Yom7g  56gL9KEJNHiSDUoyjk2o3Q  8yR12PNSMo6FBYx1u5KPlw   \n",
       "1  U9-43s8YUl6GWBFCpxUGEw  PAxc0qpqt5c2kA0rjDFFAg  XwepyB7KjJ-XGJf0vKc6Vg   \n",
       "2  8T8EGa_4Cj12M6w8vRgUsQ  BqPR1Dp5Rb_QYs9_fz9RiA  prm5wvpp0OHJBlrvTj9uOg   \n",
       "3  18E_haOfOm8ks-A7SlVWRg  bnDZpsii_if2_wpn8oPcig  bK0j7YtVyN98UnM_8fUONg   \n",
       "4  xQVDB9xRdpLmPh9XMQ6Gvg  yy38DH7ENFTJ10-d4GUlig  S26FJcC298XNpN2cZiwOrA   \n",
       "\n",
       "   review_stars  useful  funny  cool  \\\n",
       "0           2.0       1      0     0   \n",
       "1           4.0       0      0     0   \n",
       "2           5.0       0      0     0   \n",
       "3           3.0       1      1     1   \n",
       "4           5.0       0      0     0   \n",
       "\n",
       "                                                text                 date  \\\n",
       "0  Went for lunch and found that my burger was me...  2018-04-04 21:09:53   \n",
       "1  Been here a few times to get some shrimp.  The...  2013-04-27 01:55:49   \n",
       "2  This is one fantastic place to eat whether you...  2019-05-15 18:29:25   \n",
       "3  Dirt cheap happy hour specials.  Half priced d...  2011-11-08 01:30:27   \n",
       "4  Nothing beats pizza and beer in my book. This ...  2012-12-24 02:18:18   \n",
       "\n",
       "                             name  ... state postal_code   latitude  \\\n",
       "0   Bru Burger Bar - Indianapolis  ...    IN       46204  39.773307   \n",
       "1                   Joe's Seafood  ...    PA       19403  40.139854   \n",
       "2              Rumbi Island Grill  ...    ID       83709  43.604645   \n",
       "3                 Tavern on Broad  ...    PA       19102  39.949119   \n",
       "4  Pi Pizzeria - Central West End  ...    MO       63108  38.648864   \n",
       "\n",
       "    longitude  business_stars  review_count  is_open  \\\n",
       "0  -86.152091             4.0          1608        1   \n",
       "1  -75.387321             3.0             7        0   \n",
       "2 -116.289834             3.5            29        0   \n",
       "3  -75.164844             2.5           282        0   \n",
       "4  -90.260690             4.0           488        1   \n",
       "\n",
       "                                          attributes  \\\n",
       "0  {'BikeParking': 'True', 'GoodForKids': 'True',...   \n",
       "1  {'OutdoorSeating': 'False', 'RestaurantsGoodFo...   \n",
       "2  {'HasTV': 'False', 'GoodForMeal': \"{'dessert':...   \n",
       "3  {'NoiseLevel': \"u'very_loud'\", 'RestaurantsPri...   \n",
       "4  {'BusinessAcceptsCreditCards': 'True', 'Restau...   \n",
       "\n",
       "                                          categories  \\\n",
       "0  Restaurants, Gluten-Free, Bars, Food, Nightlif...   \n",
       "1  Seafood Markets, Food, Restaurants, Seafood, S...   \n",
       "2  Sandwiches, Salad, Restaurants, Hawaiian, Cari...   \n",
       "3  American (New), Bars, Sports Bars, Restaurants...   \n",
       "4                                 Restaurants, Pizza   \n",
       "\n",
       "                                               hours  \n",
       "0  {'Monday': '0:0-0:0', 'Tuesday': '11:0-21:0', ...  \n",
       "1  {'Monday': '9:0-19:0', 'Tuesday': '9:0-19:0', ...  \n",
       "2  {'Monday': '11:0-21:0', 'Tuesday': '11:0-21:0'...  \n",
       "3  {'Monday': '11:0-2:0', 'Tuesday': '11:0-2:0', ...  \n",
       "4  {'Monday': '11:0-21:0', 'Tuesday': '11:0-21:0'...  \n",
       "\n",
       "[5 rows x 22 columns]"
      ]
     },
     "execution_count": 6,
     "metadata": {},
     "output_type": "execute_result"
    }
   ],
   "source": [
    "merged_df = pd.merge(restaurant_review_df, restaurant_df, on='business_id', how='inner')\n",
    "merged_df = merged_df.rename(columns={'stars_x': 'review_stars', 'stars_y': 'business_stars'})\n",
    "merged_df.head()"
   ]
  },
  {
   "cell_type": "markdown",
   "metadata": {},
   "source": [
    "**Identifying Major Cuisine Types**:\n",
    "- Extracted `major_cuisine` from `categories` based on predefined types (`Italian`, `Chinese`, `Mexican`, etc.).\n",
    "- Retained only rows with identified `major_cuisine` in the filtered dataset.\n",
    "- Focuses the analysis on specific cuisines of interest."
   ]
  },
  {
   "cell_type": "code",
   "execution_count": null,
   "metadata": {},
   "outputs": [
    {
     "name": "stdout",
     "output_type": "stream",
     "text": [
      "                                          categories major_cuisine\n",
      "3  American (New), Bars, Sports Bars, Restaurants...      American\n",
      "5                        American (New), Restaurants      American\n",
      "7  Food, Sandwiches, American (Traditional), Rest...      American\n",
      "8              Nightlife, Bars, Mexican, Restaurants       Mexican\n",
      "9                               Italian, Restaurants       Italian\n",
      "Number of entries with identified major cuisine types: 29037\n"
     ]
    }
   ],
   "source": [
    "# Define cuisine types of interest\n",
    "cuisine_types = [\"Italian\", \"Chinese\", \"Mexican\", \"Japanese\", \"American\", \"Indian\"]\n",
    "\n",
    "# Function to determine the major cuisine type\n",
    "def get_major_cuisine(categories):\n",
    "    for cuisine in cuisine_types:\n",
    "        if cuisine.lower() in categories.lower():\n",
    "            return cuisine\n",
    "    return None  # Return None if no major cuisine is found\n",
    "\n",
    "# Apply the function to replace categories with the major cuisine type\n",
    "merged_df['major_cuisine'] = merged_df['categories'].apply(get_major_cuisine)\n",
    "\n",
    "# Filter to include only rows where a major cuisine was identified\n",
    "filtered_df = merged_df[merged_df['major_cuisine'].notna()]\n",
    "\n",
    "# Display the updated DataFrame\n",
    "print(filtered_df[['categories', 'major_cuisine']].head())\n",
    "\n",
    "# Check the size of the filtered dataset\n",
    "print(f\"Number of entries with identified major cuisine types: {filtered_df.shape[0]}\")"
   ]
  },
  {
   "cell_type": "markdown",
   "metadata": {},
   "source": [
    "#### Feature Scaling(Numeric)"
   ]
  },
  {
   "cell_type": "markdown",
   "metadata": {},
   "source": [
    "- Scaled `review_count`, `review_stars`, and `business_stars` using Z-score standardization.\n",
    "- Ensures features have a mean of 0 and a standard deviation of 1.\n",
    "- Prepares the dataset for clustering and PCA by treating all features equally."
   ]
  },
  {
   "cell_type": "code",
   "execution_count": 13,
   "metadata": {},
   "outputs": [
    {
     "name": "stdout",
     "output_type": "stream",
     "text": [
      "   review_count  review_stars  business_stars\n",
      "3     -0.278013     -0.557581       -2.126283\n",
      "5      0.692693      0.883046        1.226557\n",
      "7     -0.299224      0.162732       -1.288073\n",
      "8     -0.344141     -1.998208       -0.449863\n",
      "9     -0.564983     -1.277895       -0.449863\n"
     ]
    }
   ],
   "source": [
    "from sklearn.preprocessing import StandardScaler\n",
    "\n",
    "# Select numerical columns to scale\n",
    "numerical_features = ['review_count', 'review_stars', 'business_stars']\n",
    "\n",
    "# Standardization (Z-Score)\n",
    "standard_scaler = StandardScaler()\n",
    "\n",
    "# Using .loc to avoid SettingWithCopyWarning\n",
    "filtered_df.loc[:, numerical_features] = standard_scaler.fit_transform(filtered_df[numerical_features])\n",
    "\n",
    "# Display the scaled dataset\n",
    "print(filtered_df[numerical_features].head())\n"
   ]
  },
  {
   "cell_type": "markdown",
   "metadata": {},
   "source": [
    "#### Feature Scaling(Categorical)"
   ]
  },
  {
   "cell_type": "markdown",
   "metadata": {},
   "source": [
    "- Encoded `major_cuisine` into binary columns using `OneHotEncoder`.\n",
    "- Used `sparse_output=False` to generate a dense array suitable for DataFrame conversion.\n",
    "- Concatenated the encoded features with `filtered_df`.\n",
    "- Dropped the original `major_cuisine` column after encoding.\n",
    "- Prepares the categorical data for numerical analysis and machine learning models."
   ]
  },
  {
   "cell_type": "code",
   "execution_count": 18,
   "metadata": {},
   "outputs": [
    {
     "name": "stdout",
     "output_type": "stream",
     "text": [
      "                review_id                 user_id             business_id  \\\n",
      "0  18E_haOfOm8ks-A7SlVWRg  bnDZpsii_if2_wpn8oPcig  bK0j7YtVyN98UnM_8fUONg   \n",
      "1  c7IQ5alG0pl9yCITtsIlrA  ZLKpeCqbCMWfNeT6yU8wUQ  zT2OzXDWKK1abapHs2RUrQ   \n",
      "2  YHIicUo2zqA5zwe-lXhsNw  CEZMiWrgtF67m0GUm19ZJA  nKpWUL3kMt4cnNQhye2WqA   \n",
      "3  3KFxmw4RG5E4ActnP8VPCQ  IOJnU62iJL1LM_X6A_p1xw  vtR2MjFToKkclbUX5DuhlQ   \n",
      "4  tsCWBn7pc09M3jKiwi4w-g  2ULSyP0EK7LQaavU89efLA  eSJMA_VdUVQTDkRJiV9lHw   \n",
      "\n",
      "   review_stars  useful  funny  cool  \\\n",
      "0     -0.557581       1      1     1   \n",
      "1      0.883046       1      0     0   \n",
      "2      0.162732       2      5     1   \n",
      "3     -1.998208       6      1     0   \n",
      "4     -1.277895       1      0     0   \n",
      "\n",
      "                                                text                 date  \\\n",
      "0  Dirt cheap happy hour specials.  Half priced d...  2011-11-08 01:30:27   \n",
      "1  Philly cheese steak (loaded)  was phenomenal. ...  2021-07-02 02:17:40   \n",
      "2  It's almost 10 o clock on a Tuesday and I am t...  2015-04-22 02:01:21   \n",
      "3  Great ambience and seated quickly after arrivi...  2016-04-17 13:31:53   \n",
      "4  Tried this restaurant for the first time tonig...  2015-11-15 03:17:19   \n",
      "\n",
      "                  name  ... is_open  \\\n",
      "0      Tavern on Broad  ...       0   \n",
      "1  The Boardwalk Grill  ...       1   \n",
      "2          The Red Hen  ...       1   \n",
      "3             Elvira's  ...       0   \n",
      "4   Ristorante Toscano  ...       1   \n",
      "\n",
      "                                          attributes  \\\n",
      "0  {'NoiseLevel': \"u'very_loud'\", 'RestaurantsPri...   \n",
      "1  {'RestaurantsReservations': 'False', 'Alcohol'...   \n",
      "2  {'BikeParking': 'True', 'GoodForMeal': \"{'dess...   \n",
      "3  {'CoatCheck': 'False', 'NoiseLevel': \"u'averag...   \n",
      "4  {'GoodForKids': 'True', 'Alcohol': \"u'none'\", ...   \n",
      "\n",
      "                                          categories  \\\n",
      "0  American (New), Bars, Sports Bars, Restaurants...   \n",
      "1                        American (New), Restaurants   \n",
      "2  Food, Sandwiches, American (Traditional), Rest...   \n",
      "3              Nightlife, Bars, Mexican, Restaurants   \n",
      "4                               Italian, Restaurants   \n",
      "\n",
      "                                               hours  major_cuisine_American  \\\n",
      "0  {'Monday': '11:0-2:0', 'Tuesday': '11:0-2:0', ...                     1.0   \n",
      "1  {'Monday': '10:0-21:0', 'Tuesday': '10:0-21:0'...                     1.0   \n",
      "2  {'Tuesday': '12:0-22:0', 'Wednesday': '12:0-22...                     1.0   \n",
      "3  {'Tuesday': '16:0-21:0', 'Wednesday': '16:0-21...                     0.0   \n",
      "4  {'Wednesday': '16:0-20:0', 'Thursday': '16:0-2...                     0.0   \n",
      "\n",
      "   major_cuisine_Chinese  major_cuisine_Indian  major_cuisine_Italian  \\\n",
      "0                    0.0                   0.0                    0.0   \n",
      "1                    0.0                   0.0                    0.0   \n",
      "2                    0.0                   0.0                    0.0   \n",
      "3                    0.0                   0.0                    0.0   \n",
      "4                    0.0                   0.0                    1.0   \n",
      "\n",
      "   major_cuisine_Japanese major_cuisine_Mexican  \n",
      "0                     0.0                   0.0  \n",
      "1                     0.0                   0.0  \n",
      "2                     0.0                   0.0  \n",
      "3                     0.0                   1.0  \n",
      "4                     0.0                   0.0  \n",
      "\n",
      "[5 rows x 28 columns]\n"
     ]
    }
   ],
   "source": [
    "from sklearn.preprocessing import OneHotEncoder\n",
    "import pandas as pd\n",
    "\n",
    "# Select categorical columns to encode\n",
    "categorical_features = ['major_cuisine']\n",
    "\n",
    "# Create OneHotEncoder instance\n",
    "one_hot_encoder = OneHotEncoder(sparse_output=False)  # Set sparse=False to get a dense array\n",
    "\n",
    "# Fit and transform the categorical features\n",
    "encoded_features = one_hot_encoder.fit_transform(filtered_df[categorical_features])\n",
    "\n",
    "# Convert encoded features to a DataFrame\n",
    "encoded_df = pd.DataFrame(encoded_features, columns=one_hot_encoder.get_feature_names_out(categorical_features))\n",
    "\n",
    "# Concatenate the encoded features with the original DataFrame\n",
    "filtered_df = pd.concat([filtered_df.reset_index(drop=True), encoded_df.reset_index(drop=True)], axis=1)\n",
    "\n",
    "# Drop the original categorical column\n",
    "filtered_df.drop(columns=categorical_features, inplace=True)\n",
    "\n",
    "# Display the updated DataFrame\n",
    "print(filtered_df.head())\n"
   ]
  },
  {
   "cell_type": "markdown",
   "metadata": {},
   "source": [
    "#### Dimensionality Reduction"
   ]
  },
  {
   "cell_type": "markdown",
   "metadata": {},
   "source": [
    "- Selected scaled numerical features: `review_count`, `review_stars`, and `business_stars`.\n",
    "- Included one-hot encoded categorical features: columns starting with `major_cuisine_`.\n",
    "- Combined numerical and categorical features into a new DataFrame `features_df`.\n",
    "- Prepares the data for dimensionality reduction techniques like PCA."
   ]
  },
  {
   "cell_type": "code",
   "execution_count": 28,
   "metadata": {},
   "outputs": [
    {
     "name": "stdout",
     "output_type": "stream",
     "text": [
      "Prepared Features for Dimensionality Reduction:\n",
      "   review_count  review_stars  business_stars  major_cuisine_American  \\\n",
      "0     -0.278013     -0.557581       -2.126283                     1.0   \n",
      "1      0.692693      0.883046        1.226557                     1.0   \n",
      "2     -0.299224      0.162732       -1.288073                     1.0   \n",
      "3     -0.344141     -1.998208       -0.449863                     0.0   \n",
      "4     -0.564983     -1.277895       -0.449863                     0.0   \n",
      "\n",
      "   major_cuisine_Chinese  major_cuisine_Indian  major_cuisine_Italian  \\\n",
      "0                    0.0                   0.0                    0.0   \n",
      "1                    0.0                   0.0                    0.0   \n",
      "2                    0.0                   0.0                    0.0   \n",
      "3                    0.0                   0.0                    0.0   \n",
      "4                    0.0                   0.0                    1.0   \n",
      "\n",
      "   major_cuisine_Japanese  major_cuisine_Mexican  \n",
      "0                     0.0                    0.0  \n",
      "1                     0.0                    0.0  \n",
      "2                     0.0                    0.0  \n",
      "3                     0.0                    1.0  \n",
      "4                     0.0                    0.0  \n",
      "Shape of features_df: (29037, 9)\n"
     ]
    }
   ],
   "source": [
    "# Select scaled numerical features (already scaled)\n",
    "numerical_features = ['review_count', 'review_stars', 'business_stars']\n",
    "\n",
    "# Select one-hot encoded categorical features\n",
    "categorical_features = [col for col in filtered_df.columns if col.startswith('major_cuisine_')]\n",
    "\n",
    "# Combine scaled numerical features and one-hot encoded categorical features\n",
    "selected_features = numerical_features + categorical_features\n",
    "features_df = filtered_df[selected_features]\n",
    "\n",
    "# Display the prepared DataFrame\n",
    "print(\"Prepared Features for Dimensionality Reduction:\")\n",
    "print(features_df.head())\n",
    "print(f\"Shape of features_df: {features_df.shape}\")"
   ]
  },
  {
   "cell_type": "markdown",
   "metadata": {},
   "source": [
    "#### Applying PCA and Visualizing Explained Variance:\n",
    "- Applied PCA to the prepared `features_df` to analyze the explained variance of each principal component.\n",
    "- Calculated the individual explained variance ratio and the cumulative explained variance.\n",
    "- Visualized the results:\n",
    "  - **Bar Plot**: Shows the individual explained variance for each component.\n",
    "  - **Scatter Plot and Line**: Represent the cumulative explained variance, helping determine the number of components needed to capture most of the variance.\n",
    "- Helps identify the optimal number of principal components for dimensionality reduction.\n"
   ]
  },
  {
   "cell_type": "code",
   "execution_count": 29,
   "metadata": {},
   "outputs": [
    {
     "data": {
      "image/png": "[encoded data removed]",
      "text/plain": [
       "<Figure size 1000x600 with 1 Axes>"
      ]
     },
     "metadata": {},
     "output_type": "display_data"
    }
   ],
   "source": [
    "from sklearn.decomposition import PCA\n",
    "import pandas as pd\n",
    "\n",
    "# Apply PCA to determine explained variance\n",
    "pca = PCA()  # Let PCA determine all components\n",
    "pca.fit(features_df)\n",
    "\n",
    "# Explained variance ratio and cumulative explained variance\n",
    "explained_variance_ratio = pca.explained_variance_ratio_\n",
    "cumulative_explained_variance = np.cumsum(explained_variance_ratio)\n",
    "\n",
    "# Plot the explained variance ratio and cumulative explained variance\n",
    "plt.figure(figsize=(10, 6))\n",
    "plt.bar(range(1, len(explained_variance_ratio) + 1), explained_variance_ratio, alpha=0.7, label='Individual Explained Variance')\n",
    "plt.scatter(range(1, len(cumulative_explained_variance) + 1), cumulative_explained_variance, label='Cumulative Explained Variance', color='blue')\n",
    "plt.plot(range(1, len(cumulative_explained_variance) + 1), cumulative_explained_variance, linestyle='--', color='blue')\n",
    "\n",
    "# Add labels and title\n",
    "plt.xlabel('Principal Component Index')\n",
    "plt.ylabel('Explained Variance Ratio')\n",
    "plt.title('Explained Variance by Principal Components')\n",
    "plt.legend(loc='best')\n",
    "plt.grid(True)\n",
    "plt.show()"
   ]
  },
  {
   "cell_type": "markdown",
   "metadata": {},
   "source": [
    "#### Choosing the Number of Principal Components:\n",
    "- Based on the explained variance plot:\n",
    "  - The first 4 components explain approximately 90% of the variance in the data.\n",
    "  - Beyond 4 components, the cumulative variance increases minimally, indicating diminishing returns.\n",
    "- **Decision**:\n",
    "  - Retain 4 components for dimensionality reduction to capture the majority of the information while reducing noise and complexity."
   ]
  },
  {
   "cell_type": "code",
   "execution_count": 31,
   "metadata": {},
   "outputs": [
    {
     "name": "stdout",
     "output_type": "stream",
     "text": [
      "Reduced Features with 4 Principal Components:\n",
      "        PC1       PC2       PC3       PC4\n",
      "0 -1.866461  0.347373 -1.171291  0.454709\n",
      "1  1.667680  0.086670  0.130245  0.484687\n",
      "2 -0.878127 -0.118227 -1.009826  0.495922\n",
      "3 -1.680273  0.648040  1.060819 -0.625506\n",
      "4 -1.331947  0.098146  0.677053 -0.618968\n",
      "Explained Variance Ratio: [0.41439299 0.25187133 0.1561148  0.08370339]\n",
      "Cumulative Explained Variance: [0.41439299 0.66626433 0.82237913 0.90608252]\n"
     ]
    }
   ],
   "source": [
    "pca = PCA(n_components=4)\n",
    "\n",
    "# Fit and transform the data\n",
    "reduced_features = pca.fit_transform(features_df)\n",
    "\n",
    "# Create a DataFrame for the reduced features\n",
    "reduced_df = pd.DataFrame(reduced_features, columns=[f'PC{i+1}' for i in range(4)])\n",
    "\n",
    "# Display the resulting DataFrame\n",
    "print(\"Reduced Features with 4 Principal Components:\")\n",
    "print(reduced_df.head())\n",
    "\n",
    "# Explained variance ratio for the 4 components\n",
    "explained_variance = pca.explained_variance_ratio_\n",
    "cumulative_variance = explained_variance.cumsum()\n",
    "print(\"Explained Variance Ratio:\", explained_variance)\n",
    "print(\"Cumulative Explained Variance:\", cumulative_variance)"
   ]
  },
  {
   "cell_type": "markdown",
   "metadata": {},
   "source": [
    "#### Results with 4 Principal Components\n",
    "\n",
    "**Explained Variance Ratio**  \n",
    "- **Definition**: The proportion of the total variance in the data explained by each principal component.\n",
    "  - `PC1`: Explains **41.44%** of the variance.\n",
    "  - `PC2`: Explains **25.19%** of the variance.\n",
    "  - `PC3`: Explains **15.61%** of the variance.\n",
    "  - `PC4`: Explains **8.37%** of the variance.\n",
    "\n",
    "**Cumulative Explained Variance**\n",
    "- **Definition**: The total variance explained when combining multiple components.\n",
    "  - `PC1 + PC2`: Explain **66.63%** of the variance.\n",
    "  - `PC1 + PC2 + PC3`: Explain **82.24%** of the variance.\n",
    "  - `PC1 + PC2 + PC3 + PC4`: Explain **90.61%** of the variance.\n",
    "\n",
    "\n",
    "**Significance**:\n",
    "  - Retaining 4 principal components captures over **90% of the variance**, meaning most of the information in the dataset is preserved.\n",
    "  - This reduction simplifies the dataset while minimizing information loss.  \n",
    "\n",
    "**Application**:\n",
    "  - The reduced features can now be used for clustering, classification, or other analyses, with a smaller, more manageable dataset.\n"
   ]
  }
 ],
 "metadata": {
  "kernelspec": {
   "display_name": ".venv",
   "language": "python",
   "name": "python3"
  },
  "language_info": {
   "codemirror_mode": {
    "name": "ipython",
    "version": 3
   },
   "file_extension": ".py",
   "mimetype": "text/x-python",
   "name": "python",
   "nbconvert_exporter": "python",
   "pygments_lexer": "ipython3",
   "version": "3.12.0"
  }
 },
 "nbformat": 4,
 "nbformat_minor": 2
}
