{
 "cells": [
  {
   "cell_type": "markdown",
   "metadata": {},
   "source": [
    "# Understanding the Geographical Impact on Restaurant Reviews: A Yelp Data Analysis"
   ]
  },
  {
   "cell_type": "markdown",
   "metadata": {},
   "source": [
    "## **Team Members:**\n",
    "\n",
    "Hugh Wang(hughwang@umich.edu)  \n",
    "Brain Wang"
   ]
  },
  {
   "cell_type": "markdown",
   "metadata": {},
   "source": [
    "## **Overview**\n",
    "\n",
    "This project analyzes the relationship between geographical features and restaurant review trends in the United States. We aim to explore how factors such as location type (e.g., downtown vs. suburban), proximity to landmarks, and neighborhood characteristics influence customer feedback and ratings."
   ]
  },
  {
   "cell_type": "markdown",
   "metadata": {},
   "source": [
    "## **Motivation**\n",
    "\n",
    "We chose this topic because understanding how geography influences customer behavior is valuable for businesses and urban planners alike. Restaurants in different areas may have varied customer expectations, and insights into these differences can help businesses tailor their services more effectively. Here are the three real-world questions we generated for this project:\n",
    "\n",
    "- **How do review ratings vary by restaurant category (e.g., fast food vs. fine dining) across different regions in the U.S.?**  \n",
    "  By answering this question, we aim to learn whether customers in different regions prefer certain types of restaurants and how these preferences influence review ratings. This will help identify regional trends in customer satisfaction.\n",
    "\n",
    "- **What times of the year do restaurants tend to receive the most reviews, and how does this trend affect review sentiment?**  \n",
    "  This question will help us understand seasonal patterns in review activity and whether customer sentiment (positive or negative) shifts during specific times of the year, such as holidays or summer months.\n",
    "\n",
    "- **Are restaurants with higher average ratings more likely to have detailed reviews compared to those with lower ratings?**  \n",
    "  This analysis will explore whether detailed reviews are more often associated with positive experiences or if dissatisfied customers also tend to provide more in-depth feedback. Understanding this can offer insights into the correlation between review length and customer satisfaction.\n"
   ]
  },
  {
   "cell_type": "markdown",
   "metadata": {},
   "source": [
    "## **Data Sources**\n",
    "\n",
    "In this project, we will use two key components from the Yelp dataset:\n",
    "\n",
    "### **Yelp Business Dataset**  \n",
    "This dataset contains vital information about businesses, including their name, location (address, latitude, longitude), category (e.g., restaurant, bar), and various attributes (e.g., price range, amenities like parking or takeout options). This structured data provides a comprehensive overview of the business characteristics that are essential for analysis.\n",
    "\n",
    "- **URL**: [Yelp Dataset](https://www.yelp.com/dataset)  \n",
    "\n",
    "### **Yelp Review Dataset**  \n",
    "This dataset contains customer feedback in the form of written reviews, star ratings (1 to 5 stars), and timestamps. It captures user experiences for each business, offering a dynamic perspective on customer satisfaction, preferences, and the factors that influence ratings over time.\n",
    "\n",
    "- **URL**: [Yelp Dataset](https://www.yelp.com/dataset)\n",
    "\n",
    "### **How These Datasets Complement Each Other**  \n",
    "The **Yelp Business** dataset provides a structured view of business attributes, such as location, category, and price range, giving essential context about each restaurant. The **Yelp Review** dataset, on the other hand, adds dynamic feedback from customers, including ratings and review text, which reflect real-world customer experiences and opinions. By integrating these two datasets, we can explore how business features—like geographic location, type of establishment, or pricing—impact customer satisfaction, offering deeper insights into the factors driving restaurant success.\n"
   ]
  },
  {
   "cell_type": "markdown",
   "metadata": {},
   "source": [
    "## **Data Description**\n",
    "\n",
    "For this project, we will be using the **Yelp Business** and **Yelp Review** datasets, each providing valuable information from different angles:\n",
    "\n",
    "1. **Yelp Business Dataset**:\n",
    "   - **Variables of Interest**:\n",
    "     - **business_id**: Unique identifier for each business (string, 22 characters).\n",
    "     - **name**: Name of the business (string).\n",
    "     - **address**: Full street address (string).\n",
    "     - **city**: The city where the business is located (string).\n",
    "     - **state**: The state where the business is located (string, 2 characters).\n",
    "     - **postal_code**: Postal code (string).\n",
    "     - **latitude/longitude**: Coordinates of the business (floats).\n",
    "     - **stars**: Average star rating for the business (float).\n",
    "     - **review_count**: Total number of reviews for the business (integer).\n",
    "     - **is_open**: Indicates if the business is currently open (0 = closed, 1 = open).\n",
    "     - **attributes**: Dictionary of business attributes (e.g., parking, takeout).\n",
    "     - **categories**: List of categories the business falls under (e.g., \"Mexican,\" \"Burgers\").\n",
    "     - **hours**: Operating hours for each day of the week (object, with times in 24-hour format).\n",
    "\n",
    "   - **Size**: The business dataset contains information for thousands of businesses, and the size depends on the region being studied. Each entry represents a unique business.\n",
    "   \n",
    "   - **Missing Values**: Some fields like attributes or operating hours may have missing or incomplete data for certain businesses.\n",
    "\n",
    "2. **Yelp Review Dataset**:\n",
    "   - **Variables of Interest**:\n",
    "     - **review_id**: Unique identifier for each review (string, 22 characters).\n",
    "     - **user_id**: Unique identifier for the user who posted the review (string, 22 characters).\n",
    "     - **business_id**: Unique identifier for the business being reviewed (string, 22 characters, matches with the business dataset).\n",
    "     - **stars**: Star rating given in the review (integer).\n",
    "     - **date**: Date the review was posted (string, formatted as YYYY-MM-DD).\n",
    "     - **text**: Full text content of the review (string).\n",
    "     - **useful, funny, cool**: Number of votes the review received for these categories (integers).\n",
    "\n",
    "   - **Size**: The review dataset contains millions of reviews, each representing a unique instance of customer feedback for a particular business.\n",
    "   \n",
    "   - **Missing Values**: The review dataset is generally complete, although some reviews may have missing or zero values in vote counts (useful, funny, cool)."
   ]
  },
  {
   "cell_type": "markdown",
   "metadata": {},
   "source": [
    "## **Data Manipulation**"
   ]
  },
  {
   "cell_type": "code",
   "execution_count": null,
   "metadata": {},
   "outputs": [],
   "source": [
    "import pandas as pd\n",
    "import numpy as np\n",
    "import matplotlib.pyplot as plt\n",
    "import seaborn as sns"
   ]
  },
  {
   "cell_type": "code",
   "execution_count": 1,
   "metadata": {},
   "outputs": [],
   "source": [
    "# Path to Yelp dataset csv file\n",
    "business_file = 'yelp_business.csv'\n",
    "review_file = 'yelp_review.csv'\n",
    "\n",
    "# Load the business data and review data\n",
    "business_df = pd.read_csv(business_file)\n",
    "review_df = pd.read_csv(review_file)\n"
   ]
  },
  {
   "cell_type": "code",
   "execution_count": 3,
   "metadata": {},
   "outputs": [
    {
     "name": "stdout",
     "output_type": "stream",
     "text": [
      "Number of reviews for restaurants: 4724471\n",
      "                review_id                 user_id             business_id  \\\n",
      "0  KU_O5udG6zpxOg-VcAEodg  mh_-eMZ6K5RLWhZyISBhwA  XQfwVwDr-v0ZS3_CbbE5Xw   \n",
      "1  BiTunyQ73aT9WBnpR9DZGw  OyoGAe7OKpv6SyGZT5g77Q  7ATYjTIgM3jUlt4UM3IypQ   \n",
      "2  saUsX_uimxRlCVr67Z4Jig  8g_iMtfSiwikVnbP2etR0A  YjUWPpI6HXG530lwP-fb2A   \n",
      "3  AqPFMleE6RsU23_auESxiA  _7bHUi9Uuf5__HHc_Q8guQ  kxX2SOes4o-D3ZQBkiMRfA   \n",
      "4  Sx8TMOWLNuJBWer-0pcmoA  bcjbaE6dDog4jkNY91ncLQ  e4Vwtrqf-wpJfwesgvdgxQ   \n",
      "\n",
      "   stars  useful  funny  cool  \\\n",
      "0    3.0       0      0     0   \n",
      "1    5.0       1      0     1   \n",
      "2    3.0       0      0     0   \n",
      "3    5.0       1      0     1   \n",
      "4    4.0       1      0     1   \n",
      "\n",
      "                                                text                 date  \n",
      "0  If you decide to eat here, just be aware it is...  2018-07-07 22:09:11  \n",
      "1  I've taken a lot of spin classes over the year...  2012-01-03 15:28:18  \n",
      "2  Family diner. Had the buffet. Eclectic assortm...  2014-02-05 20:30:30  \n",
      "3  Wow!  Yummy, different,  delicious.   Our favo...  2015-01-04 00:01:03  \n",
      "4  Cute interior and owner (?) gave us tour of up...  2017-01-14 20:54:15  \n",
      "              business_id                      name  \\\n",
      "0  Pns2l4eNsfO8kk83dixA6A  Abby Rappoport, LAC, CMQ   \n",
      "1  mpf3x-BjTdTEA3yCZrAYPw             The UPS Store   \n",
      "2  tUFrWirKiKi_TAnsVWINQQ                    Target   \n",
      "3  MTSW4McQd7CbVtyjqoe9mw        St Honore Pastries   \n",
      "4  mWMc6_wTdE0EUBKIGXDVfA  Perkiomen Valley Brewery   \n",
      "\n",
      "                           address           city state postal_code  \\\n",
      "0           1616 Chapala St, Ste 2  Santa Barbara    CA       93101   \n",
      "1  87 Grasso Plaza Shopping Center         Affton    MO       63123   \n",
      "2             5255 E Broadway Blvd         Tucson    AZ       85711   \n",
      "3                      935 Race St   Philadelphia    PA       19107   \n",
      "4                    101 Walnut St     Green Lane    PA       18054   \n",
      "\n",
      "    latitude   longitude  stars  review_count  is_open  \\\n",
      "0  34.426679 -119.711197    5.0             7        0   \n",
      "1  38.551126  -90.335695    3.0            15        1   \n",
      "2  32.223236 -110.880452    3.5            22        0   \n",
      "3  39.955505  -75.155564    4.0            80        1   \n",
      "4  40.338183  -75.471659    4.5            13        1   \n",
      "\n",
      "                                          attributes  \\\n",
      "0                      {'ByAppointmentOnly': 'True'}   \n",
      "1             {'BusinessAcceptsCreditCards': 'True'}   \n",
      "2  {'BikeParking': 'True', 'BusinessAcceptsCredit...   \n",
      "3  {'RestaurantsDelivery': 'False', 'OutdoorSeati...   \n",
      "4  {'BusinessAcceptsCreditCards': 'True', 'Wheelc...   \n",
      "\n",
      "                                          categories  \\\n",
      "0  Doctors, Traditional Chinese Medicine, Naturop...   \n",
      "1  Shipping Centers, Local Services, Notaries, Ma...   \n",
      "2  Department Stores, Shopping, Fashion, Home & G...   \n",
      "3  Restaurants, Food, Bubble Tea, Coffee & Tea, B...   \n",
      "4                          Brewpubs, Breweries, Food   \n",
      "\n",
      "                                               hours  \n",
      "0                                                NaN  \n",
      "1  {'Monday': '0:0-0:0', 'Tuesday': '8:0-18:30', ...  \n",
      "2  {'Monday': '8:0-22:0', 'Tuesday': '8:0-22:0', ...  \n",
      "3  {'Monday': '7:0-20:0', 'Tuesday': '7:0-20:0', ...  \n",
      "4  {'Wednesday': '14:0-22:0', 'Thursday': '16:0-2...  \n"
     ]
    }
   ],
   "source": [
    "# Filter out missing data\n",
    "business_df = business_df.dropna(subset=['categories'])\n",
    "review_df = review_df.dropna(subset=['text'])\n",
    "\n",
    "# Filter out businesses that are not restaurants\n",
    "restaurant_df = business_df[business_df['categories'].str.contains('Restaurants')]\n",
    "restaurant_ids = restaurant_df['business_id'].values\n",
    "\n",
    "# Filter out reviews that are not for restaurants\n",
    "restaurant_review_df = review_df[review_df['business_id'].isin(restaurant_ids)]\n",
    "\n",
    "print('Number of reviews for restaurants:', len(restaurant_review_df))\n",
    "print(review_df.head())\n",
    "print(business_df.head())"
   ]
  }
 ],
 "metadata": {
  "kernelspec": {
   "display_name": ".venv",
   "language": "python",
   "name": "python3"
  },
  "language_info": {
   "codemirror_mode": {
    "name": "ipython",
    "version": 3
   },
   "file_extension": ".py",
   "mimetype": "text/x-python",
   "name": "python",
   "nbconvert_exporter": "python",
   "pygments_lexer": "ipython3",
   "version": "3.12.0"
  }
 },
 "nbformat": 4,
 "nbformat_minor": 2
}
